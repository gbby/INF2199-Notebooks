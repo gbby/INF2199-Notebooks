{
 "cells": [
  {
   "cell_type": "code",
   "execution_count": 1,
   "metadata": {},
   "outputs": [],
   "source": [
    "# comparisons\n",
    "# https://docs.google.com/spreadsheets/u/1/d/e/2PACX-1vTX5x2nxCde90Zwo83cdixZsyd_hU1orGsGYKpDe344wHeFi9MqI71aZYC6GLjOV_P2lp6_lUoacPNa/pubhtml?gid=1467787327&single=true\n",
    "# https://twitter.com/jkwan_md/status/1312035412274221058?s=21\n",
    "# https://russell-pollari.github.io/ontario-covid19/\n",
    "\n",
    "import pandas as pd\n",
    "import numpy as np\n",
    "import urllib, json\n",
    "import matplotlib.pyplot as plt\n",
    "import matplotlib.colors as mcolors\n",
    "from mpl_toolkits.mplot3d import Axes3D\n",
    "# from mpl_toolkits.basemap import Basemap\n",
    "from matplotlib.collections import PolyCollection\n",
    "import seaborn as sns\n",
    "import datetime as dt\n",
    "import geopandas as gpd\n",
    "import folium\n",
    "from shapely.geometry import Point, Polygon\n",
    "\n",
    "import plotly.graph_objects as go\n",
    "from plotly.subplots import make_subplots\n",
    "import plotly.express as px\n",
    "\n",
    "# set the standard plot size\n",
    "plt.rcParams['figure.figsize']=(30,15)"
   ]
  },
  {
   "cell_type": "code",
   "execution_count": null,
   "metadata": {},
   "outputs": [],
   "source": [
    "%%time\n",
    "# get the \"Confirmed positive cases of COVID19 in Ontario\" data\n",
    "# https://data.ontario.ca/dataset/confirmed-positive-cases-of-covid-19-in-ontario/resource/455fd63b-603d-4608-8216-7d8647f43350\n",
    "# import data using the ontario open data API\n",
    "# make sure to check the limit against current cases\n",
    "url = \"https://data.ontario.ca/en/api/3/action/datastore_search?resource_id=455fd63b-603d-4608-8216-7d8647f43350&limit=1500000\"\n",
    "response = urllib.request.urlopen(url)\n",
    "data = json.loads(response.read().decode('utf-8'))\n",
    "\n",
    "# use this if you want to see the json\n",
    "# print (data['result']['records'])\n",
    "\n",
    "# use this if you want to write it to a pandas dataframe\n",
    "df = pd.DataFrame(data['result']['records'])"
   ]
  },
  {
   "cell_type": "code",
   "execution_count": null,
   "metadata": {},
   "outputs": [],
   "source": [
    "%%time\n",
    "# get the \"Status of COVID-19 Cases in Ontario\" data\n",
    "# https://data.ontario.ca/dataset/status-of-covid-19-cases-in-ontario\n",
    "# make sure to check the limit against current cases\n",
    "url = \"https://data.ontario.ca/en/api/3/action/datastore_search?resource_id=ed270bb8-340b-41f9-a7c6-e8ef587e6d11&limit=1500000\"\n",
    "response = urllib.request.urlopen(url)\n",
    "data = json.loads(response.read().decode('utf-8'))\n",
    "\n",
    "# use this if you want to see the json\n",
    "# print (data['result']['records'])\n",
    "\n",
    "status_df = pd.DataFrame(data['result']['records'])"
   ]
  },
  {
   "cell_type": "code",
   "execution_count": null,
   "metadata": {},
   "outputs": [],
   "source": [
    "df.info()\n",
    "df.head()"
   ]
  },
  {
   "cell_type": "code",
   "execution_count": null,
   "metadata": {},
   "outputs": [],
   "source": [
    "status_df.info()\n",
    "status_df.head()"
   ]
  },
  {
   "cell_type": "code",
   "execution_count": null,
   "metadata": {},
   "outputs": [],
   "source": [
    "# sort by date\n",
    "df = df.sort_values(by=['Accurate_Episode_Date'], ascending=False);\n",
    "status_df = status_df.sort_values(by=['Reported Date'], ascending=True);"
   ]
  },
  {
   "cell_type": "code",
   "execution_count": null,
   "metadata": {},
   "outputs": [],
   "source": [
    "# see how many new cases are reported today in the \"confirmed positive\" dataset (make sure to change value to today's date)\n",
    "# keep in mind that the numbers are always missing the most recent day or two\n",
    "today = df[df['Accurate_Episode_Date'].str.contains(\"2021-01-10\", na=False)]\n",
    "today.head(10)"
   ]
  },
  {
   "cell_type": "code",
   "execution_count": null,
   "metadata": {},
   "outputs": [],
   "source": [
    "# set the dates to datetime64 for later use\n",
    "df[\"Accurate_Episode_Date\"] = df[\"Accurate_Episode_Date\"].astype(\"datetime64\")\n",
    "df[\"Case_Reported_Date\"] = df[\"Case_Reported_Date\"].astype(\"datetime64\")\n",
    "df[\"Test_Reported_Date\"] = df[\"Test_Reported_Date\"].astype(\"datetime64\")\n",
    "df[\"Specimen_Date\"] = df[\"Specimen_Date\"].astype(\"datetime64\")"
   ]
  },
  {
   "cell_type": "code",
   "execution_count": null,
   "metadata": {},
   "outputs": [],
   "source": [
    "# for accurate daily totals, better to use the \"status of covid cases\" dataset\n",
    "# you'll need to create a new column for daily growth in cases\n",
    "status_df['New Cases'] = status_df['Total Cases'].diff(periods=1).fillna(0)\n",
    "status_df['New Deaths'] = status_df['Deaths'].diff(periods=1).fillna(0)"
   ]
  },
  {
   "cell_type": "code",
   "execution_count": null,
   "metadata": {},
   "outputs": [],
   "source": [
    "# plot cases by public health unit\n",
    "fig = plt.figure()\n",
    "fig.suptitle('COVID-19 Cases by Public Health Unit', fontsize=25) # Add the text/suptitle to figure\n",
    "\n",
    "ax = df['Reporting_PHU'].value_counts().plot(\n",
    "    kind='barh', \n",
    "    figsize=(14,8)\n",
    ")\n",
    "ax.set_xlabel(\"Public Health Unit\", fontsize=16)\n",
    "ax.set_ylabel(\"Cases Reported by PHU\", fontsize=16)\n",
    "ax.tick_params(axis='both', labelsize=14)\n",
    "\n",
    "# if you want to save your graph\n",
    "# fig.savefig('PHU.jpg')"
   ]
  },
  {
   "cell_type": "code",
   "execution_count": null,
   "metadata": {},
   "outputs": [],
   "source": [
    "# use vanilla matplotlib to plot new cases based on reported change in the \"Status of COVID\" dataset\n",
    "fig = plt.figure()\n",
    "fig.suptitle('Ontario COVID-19 Reported Cases', fontsize=24) # Add the text/suptitle to figure\n",
    "\n",
    "y = status_df['New Cases']\n",
    "x = status_df['Reported Date']\n",
    "#plt.bar(counts.index,counts)\n",
    "\n",
    "# plt.plot(x, y) # line plot\n",
    "plt.fill_between(x, y) # area plot\n",
    "plt.tick_params(axis ='x', rotation = 90)\n",
    "plt.xticks(np.arange(0, 300, 50))\n",
    "\n",
    "plt.show()"
   ]
  },
  {
   "cell_type": "code",
   "execution_count": null,
   "metadata": {},
   "outputs": [],
   "source": [
    "# or using seaborn's barplot\n",
    "g = sns.barplot(x=\"Reported Date\", y=\"New Cases\",  data=status_df)\n",
    "g.set(xticks=[]);\n",
    "\n",
    "# g.fig.set_size_inches(30,15) # and we'll use this to change the figure size"
   ]
  },
  {
   "cell_type": "code",
   "execution_count": null,
   "metadata": {},
   "outputs": [],
   "source": [
    "# deaths only\n",
    "deaths = df[df.Outcome1 == 'Fatal']\n",
    "deaths.head()"
   ]
  },
  {
   "cell_type": "code",
   "execution_count": null,
   "metadata": {},
   "outputs": [],
   "source": [
    "# add moving averages\n",
    "fig = plt.figure()\n",
    "fig.suptitle('Ontario COVID-19 Reported Cases', fontsize=24) # Add the text/suptitle to figure\n",
    "\n",
    "# variables for x and y axes\n",
    "y = status_df['New Cases']\n",
    "x = status_df['Reported Date']\n",
    "\n",
    "# create some rolling averages\n",
    "rolling_mean5 = y.rolling(window=5).mean()\n",
    "rolling_mean7 = y.rolling(window=7).mean()\n",
    "\n",
    "#plt.bar(counts.index,counts)\n",
    "#plt.bar(x, y, color='burlywood')\n",
    "plt.fill_between(x, y, color='burlywood') # area plot\n",
    "plt.plot(x, rolling_mean5, label='5 Day SMA', color='red')\n",
    "plt.plot(x, rolling_mean7, label='7 Day SMA', color='green')\n",
    "plt.tick_params(axis ='x', rotation = 90)\n",
    "plt.xticks(np.arange(0, 300, 50))\n",
    "plt.legend(loc='upper left')\n",
    "plt.show()"
   ]
  },
  {
   "cell_type": "code",
   "execution_count": null,
   "metadata": {},
   "outputs": [],
   "source": [
    "# whole thing in plotly\n",
    "\n",
    "#fig = make_subplots()\n",
    "fig = go.Figure()\n",
    "\n",
    "# This \"trace\" will display the \"other\" data\n",
    "fig.add_trace(go.Bar(\n",
    "    y = status_df['New Cases'],\n",
    "    x = status_df['Reported Date'],\n",
    "    name = 'New Cases',\n",
    "    marker_color='rgb(204,164,168)',\n",
    "    # marker_line_color=\"black\",\n",
    "    hoverinfo = ['all'],\n",
    "    opacity=0.5\n",
    "))\n",
    "\n",
    "fig.add_trace(go.Bar(\n",
    "    y = status_df['New Deaths'],\n",
    "    x = status_df['Reported Date'],\n",
    "    name = 'New Deaths',\n",
    "    marker_color='rgb(59,33,36)',\n",
    "    # marker_line_color=\"black\",\n",
    "    hoverinfo = ['all']\n",
    "))\n",
    "\n",
    "fig.add_trace(go.Scatter(\n",
    "    y = rolling_mean7,\n",
    "    x = status_df['Reported Date'],\n",
    "    mode='lines',\n",
    "    name = '7 Day Rolling Average',\n",
    "    line_color='rgb(12,15,29)',\n",
    "    hoverinfo = ['all']\n",
    "))\n",
    "\n",
    "#fig.add_annotation(\n",
    "#    x = status_df.at['Reported Date'] == '2020-10-02T00:00:00',\n",
    "    # 2020-10-02T00:00:00     \n",
    "    #y = status_df['New Deaths'],\n",
    "#    text=\"Province dumped a whole bunch of new deaths\",\n",
    "#    showarrow=True,\n",
    "#    arrowhead=1\n",
    "#)\n",
    "\n",
    "#fig.update_layout(\n",
    "#    autosize=False,\n",
    "#    width=1800,\n",
    "#    height=900\n",
    "#)\n",
    "\n",
    "#plotly.offline.plot(fig, filename='ontario_covid.html')\n",
    "fig.show()"
   ]
  },
  {
   "cell_type": "code",
   "execution_count": null,
   "metadata": {},
   "outputs": [],
   "source": [
    "# use matplotlib to plot reported cases from the \"conpos\" dataset\n",
    "#fig = plt.figure()\n",
    "#fig.suptitle('Ontario COVID-19 Reported Cases', fontsize=24) # Add the text/suptitle to figure\n",
    "\n",
    "#counts = df['Case_Reported_Date'].value_counts()\n",
    "#plt.bar(counts.index,counts)\n",
    "\n",
    "# extra options\n",
    "# ax.set_xlabel(\"Public Health Unit\", fontsize=16)\n",
    "# ax.set_ylabel(\"Cases Reported by PHU\", fontsize=16)\n",
    "# ax.tick_params(axis='both', labelsize=14)\n",
    "# plt.show()"
   ]
  },
  {
   "cell_type": "code",
   "execution_count": null,
   "metadata": {},
   "outputs": [],
   "source": [
    "# same thing, but using seaborn lets us plot a kernel density estimate (which can visually stand in for a running average)\n",
    "# gotta watch out for that drop-off, though\n",
    "# https://seaborn.pydata.org/generated/seaborn.kdeplot.html\n",
    "\n",
    "#sns.set()\n",
    "#ax = sns.histplot(df['Case_Reported_Date'], kde=True, bins=300)"
   ]
  },
  {
   "cell_type": "code",
   "execution_count": null,
   "metadata": {},
   "outputs": [],
   "source": [
    "# comparisons based on gender\n",
    "#g = sns.displot(df, x=\"Accurate_Episode_Date\", hue=\"Client_Gender\", bins=300)\n",
    "#g.set_xticklabels(rotation=90)\n",
    "#g.fig.set_size_inches(30,5)"
   ]
  },
  {
   "cell_type": "code",
   "execution_count": null,
   "metadata": {},
   "outputs": [],
   "source": [
    "# side-by-side comparison based on age group for a recent day\n",
    "#g = sns.displot(today, x=\"Outcome1\", hue=\"Outcome1\", col=\"Age_Group\")\n",
    "#g.set_xticklabels(rotation=90)\n",
    "#sns.set(font_scale=1.3) # seaborn's method for setting fontsize is pretty dumb\n",
    "#g.fig.set_size_inches(20,10)"
   ]
  },
  {
   "cell_type": "code",
   "execution_count": null,
   "metadata": {},
   "outputs": [],
   "source": [
    "# see how many new cases are reported today in the \"confirmed positive\" dataset (make sure to change value to today's date)\n",
    "# keep in mind that the numbers are always missing the most recent day or two\n",
    "# five_days = df[df['Accurate_Episode_Date'].str.contains(\"2020-10-23\", na=False)]\n",
    "# today.head()"
   ]
  },
  {
   "cell_type": "code",
   "execution_count": null,
   "metadata": {},
   "outputs": [],
   "source": [
    "# or how about age group x outcome\n",
    "#deaths = deaths.replace(['<20'],'10s') # either re-set the order, or re-name <20 to something like 10s\n",
    "#deaths = deaths.sort_values('Age_Group', ascending=True) \n",
    "\n",
    "# deaths only\n",
    "#deaths = df[df.Outcome1 == 'Fatal']\n",
    "#deaths.head()\n",
    "#g = sns.displot(deaths, x=\"Age_Group\", multiple=\"dodge\")\n",
    "#sns.color_palette(\"tab10\")\n",
    "#g.set_xticklabels(rotation=90)\n",
    "#g.fig.set_size_inches(20,10)"
   ]
  },
  {
   "cell_type": "markdown",
   "metadata": {},
   "source": [
    "\n",
    "# Some things to fix: \n",
    "\n",
    "* Re-order x axis (seaborn won't order age groups by default)\n",
    "* Increase fonts (or change default matplotlib/seaborn options at the top of my notebook)\n",
    "* Change colour palettes\n",
    "* Make sure my H x W ratios are appropriate (see here: https://stats.stackexchange.com/questions/185346/what-is-the-best-ratio-between-width-and-height-in-a-bar-chart)\n",
    "* Get rid of the NaNs in the dataset\n",
    "* Make some more space between the age categories"
   ]
  }
 ],
 "metadata": {
  "kernelspec": {
   "display_name": "Python 3",
   "language": "python",
   "name": "python3"
  },
  "language_info": {
   "codemirror_mode": {
    "name": "ipython",
    "version": 3
   },
   "file_extension": ".py",
   "mimetype": "text/x-python",
   "name": "python",
   "nbconvert_exporter": "python",
   "pygments_lexer": "ipython3",
   "version": "3.8.5"
  }
 },
 "nbformat": 4,
 "nbformat_minor": 4
}
